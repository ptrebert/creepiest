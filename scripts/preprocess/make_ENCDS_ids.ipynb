{
 "cells": [
  {
   "cell_type": "code",
   "execution_count": 11,
   "metadata": {},
   "outputs": [
    {
     "name": "stdout",
     "output_type": "stream",
     "text": [
      "ENCDS ids  152\n",
      "ENCSR ids  1026\n"
     ]
    }
   ],
   "source": [
    "import csv as csv\n",
    "import collections as col\n",
    "import urllib.request as req\n",
    "import json as js\n",
    "\n",
    "enc_mdfile = '/home/pebert/work/code/mpggit/creepiest/datasrc/encode/20160211_ENCODE_metadata.tsv'\n",
    "\n",
    "outfile = '/home/pebert/work/code/mpggit/creepiest/datasrc/encode/20160224_ENCODE_datasets.json'\n",
    "\n",
    "encds = '/home/pebert/work/code/mpggit/creepiest/datasrc/encode/20160225_ENCDS_ids.json'\n",
    "\n",
    "base_url = 'https://www.encodeproject.org/experiments/{}/?format=json'\n",
    "\n",
    "def query_encode():\n",
    "    dsmap = col.defaultdict(list)\n",
    "    with open(enc_mdfile, 'r') as infile:\n",
    "        rows = csv.DictReader(infile, delimiter='\\t')\n",
    "        for r in rows:\n",
    "            expacc = r['Experiment accession']\n",
    "            if expacc in dsmap:\n",
    "                # TODO if ever needs to rerun:\n",
    "                # add set of control exp ids and check if already seen\n",
    "                print('Skip')\n",
    "                continue\n",
    "            query = base_url.format(expacc)\n",
    "            print('Query ', query)\n",
    "            resource = req.urlopen(query)\n",
    "            obj = js.loads(resource.read().decode('utf-8'))\n",
    "            assert obj['accession'] == expacc, 'That is unexpected... {} - {}'.format(expacc, obj['accession'])\n",
    "            for entry in obj['possible_controls']:\n",
    "                print('Controls found...')\n",
    "                match_acc = entry['accession']\n",
    "                dsmap[expacc].append(match_acc)\n",
    "            resource.close()\n",
    "            print('Done ', len(dsmap))\n",
    "    print('Dumping JSON...')\n",
    "    with open(outfile, 'w') as outf:\n",
    "        js.dump(dsmap, outf)\n",
    "    return\n",
    "\n",
    "\n",
    "def assign_dataset_ids(infile, outfile):\n",
    "    \n",
    "    dsmap = js.load(open(infile))\n",
    "    map_control_signal = col.defaultdict(set)\n",
    "    for exp, controls in dsmap.items():\n",
    "        for c in controls:\n",
    "            map_control_signal[c].add(exp)\n",
    "            \n",
    "    map_dsid_expid = dict()\n",
    "    for idx, control in enumerate(sorted(map_control_signal.keys()), start=1):\n",
    "        dsid = 'ENCDS' + str(idx).zfill(3) + 'CRP'\n",
    "        map_dsid_expid[control] = dsid\n",
    "        for expid in map_control_signal[control]:\n",
    "            map_dsid_expid[expid] = dsid\n",
    "            \n",
    "    print('ENCDS ids ', len(set(map_dsid_expid.values())))\n",
    "    print('ENCSR ids ', len(map_dsid_expid))\n",
    "    \n",
    "    with open(outfile, 'w') as outf:\n",
    "        js.dump(map_dsid_expid, outf, indent=1)\n",
    "    return\n",
    "    \n",
    "# executed on 2016-02-24\n",
    "# query_encode()\n",
    "\n",
    "assign_dataset_ids(outfile, encds)"
   ]
  }
 ],
 "metadata": {
  "kernelspec": {
   "display_name": "Python 3",
   "language": "python",
   "name": "python3"
  }
 },
 "nbformat": 4,
 "nbformat_minor": 0
}