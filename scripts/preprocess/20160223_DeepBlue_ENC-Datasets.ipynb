{
 "cells": [
  {
   "cell_type": "code",
   "execution_count": 4,
   "metadata": {
    "collapsed": false
   },
   "outputs": [
    {
     "name": "stdout",
     "output_type": "stream",
     "text": [
      "['okay', 'DeepBlue (1.6.7) says hi to Peter Ebert']\n"
     ]
    }
   ],
   "source": [
    "\n",
    "import collections as col\n",
    "import xmlrpc.client as client\n",
    "import csv as csv\n",
    "import json as js\n",
    "\n",
    "DEEPBLUEURL = 'http://deepblue.mpi-inf.mpg.de/xmlrpc'\n",
    "USERKEY = 'secret_key'\n",
    "\n",
    "uk = USERKEY\n",
    "\n",
    "mdfile = '/home/pebert/work/code/mpggit/creepiest/datasrc/encode/20160211_ENCODE_metadata.tsv'\n",
    "datasets_file = '/home/pebert/work/code/mpggit/creepiest/datasrc/encode/20160223_ENCODE_sample_datasets.json'\n",
    "\n",
    "proxy = client.ServerProxy(DEEPBLUEURL, encoding=\"utf-8\", allow_none=True)\n",
    "print(proxy.echo(uk))\n",
    "\n",
    "\n",
    "sample_col = col.defaultdict(set)\n",
    "with open(mdfile, 'r') as infile:\n",
    "    rows = csv.DictReader(infile, delimiter='\\t')\n",
    "    for r in rows:\n",
    "        if not r['Biosample treatments'].strip():\n",
    "            s, r = proxy.search(r['File accession'], 'experiments', uk)\n",
    "            assert s == 'okay', 'Error: {}'.format(r)\n",
    "            try:\n",
    "                expid = r[0][0]\n",
    "            except IndexError:  # empty result\n",
    "                continue\n",
    "            s, r = proxy.info(expid, uk)\n",
    "            assert s == 'okay', 'Error: {}'.format(r)\n",
    "            smpid = r[0]['sample_id']\n",
    "            asmbl = r[0]['genome']\n",
    "            s, r = proxy.list_experiments(asmbl, '', '', '', smpid, '', 'ENCODE', uk)\n",
    "            assert s == 'okay', 'Error: {}'.format(r)\n",
    "            for expinfo in r:\n",
    "                sample_col[smpid].add(tuple(expinfo))\n",
    "\n",
    "# serializing the defaultdict of sets of tuples results in TypeError because\n",
    "# JSON has no concept of tuples (just lists)\n",
    "\n",
    "convdict = dict()\n",
    "for k, val in sample_col.items():\n",
    "    convdict[k] = sorted([list(v) for v in val])\n",
    "                \n",
    "with open(datasets_file, 'w') as outfile:\n",
    "    js.dump(convdict, outfile, sort_keys=True, indent=1)\n"
   ]
  }
 ],
 "metadata": {
  "kernelspec": {
   "display_name": "Python 3",
   "language": "python",
   "name": "python3"
  }
 },
 "nbformat": 4,
 "nbformat_minor": 0
}
